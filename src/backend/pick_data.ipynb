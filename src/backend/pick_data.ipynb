{
 "cells": [
  {
   "cell_type": "code",
   "execution_count": 20,
   "metadata": {},
   "outputs": [],
   "source": [
    "import json\n",
    "import random\n",
    "\n",
    "def read_jsonl_file(file_path):\n",
    "    data = []\n",
    "    with open(file_path, 'r') as file:\n",
    "        for line in file:\n",
    "            data.append(json.loads(line))\n",
    "    return data\n",
    "\n",
    "def read_labels_file(file_path):\n",
    "    with open(file_path, 'r') as file:\n",
    "        labels = [label.strip() for label in file]\n",
    "    return labels\n",
    "\n",
    "def pick_random_subset(data, subset_size=20):\n",
    "    if len(data) <= subset_size:\n",
    "        return data\n",
    "    else:\n",
    "        return random.sample(data, subset_size)\n",
    "    \n",
    "def save_to_json(data, file_path):\n",
    "    with open(file_path, 'w') as file:\n",
    "        json.dump(data, file, indent=4)"
   ]
  },
  {
   "cell_type": "code",
   "execution_count": 37,
   "metadata": {},
   "outputs": [
    {
     "name": "stdout",
     "output_type": "stream",
     "text": [
      "Index\n",
      "[4988, 22664, 18913, 5684, 22532, 25750, 27229, 1222, 2119, 6798, 29144, 14732, 22909, 5604, 32629, 21580, 27500, 13064, 29308, 11169]\n",
      "Questions\n",
      "[{'context': 'Jordan reproduced his idea in this book so that he could keep track of it forever.', 'question': 'Why did Jordan do this?', 'answerA': 'remember things', 'answerB': 'have an idea', 'answerC': 'write the idea down'}, {'context': \"Austin met the client's needs and they praised him highly.\", 'question': 'How would Others feel as a result?', 'answerA': 'happy', 'answerB': 'incompetent', 'answerC': 'very good at work'}, {'context': 'After the ball game Cameron climbed the fence quickly to get home.', 'question': 'How would Cameron feel afterwards?', 'answerA': 'liked to get home quickly', 'answerB': 'liked to climb fences', 'answerC': 'hungry'}, {'context': 'Due to fatigue for staying up all night, Sasha made a mess of their tests.', 'question': 'How would Sasha feel afterwards?', 'answerA': 'very upset', 'answerB': 'they disappoint parents', 'answerC': \"they upset parents\\n\\n\\\\]'\"}, {'context': \"Sasha took Sydney's family home because she was ordered by her boss to do so.\", 'question': 'Why did Sasha do this?', 'answerA': 'get a promotion', 'answerB': 'be demoted', 'answerC': 'lose her job'}, {'context': 'Sydney got an urgent call about a crime in the middle of the night.', 'question': 'How would you describe Sydney?', 'answerA': 'worried', 'answerB': 'scared', 'answerC': 'a good detective'}, {'context': 'Alex saw a stranger drop $20 on the ground. He could have given it back, but Alex took the money.', 'question': 'How would you describe Alex?', 'answerA': 'empathetic', 'answerB': 'selfish', 'answerC': 'worthless'}, {'context': 'Sasha knew based on thier experieences in the past.', 'question': 'What does Sasha need to do before this?', 'answerA': 'leave town', 'answerB': 'learn', 'answerC': 'take a nap'}, {'context': \"Addison gave candy to Skylar's son and he enjoyed it a lot.\", 'question': 'What will Skylar want to do next?', 'answerA': 'become angry', 'answerB': \"give Skylar's son more candy\", 'answerC': 'be grateful'}, {'context': 'Quinn was located in the Sydney area. She often joked to her friend Sydney about it.', 'question': 'How would Sydney feel as a result?', 'answerA': 'bored by Quinn', 'answerB': 'lighthearted and cheesy', 'answerC': 'humorous and fun-loving'}, {'context': 'Kendall was too quick for Sydney and prevented their attempt at scoring a goal.', 'question': 'What will happen to Sydney?', 'answerA': 'be praised by her team', 'answerB': 'get frustrated', 'answerC': 'congratulated by her coach for doing a good job'}, {'context': 'Jesse told Sasha that they would go to the party together and have a good time there.', 'question': 'How would Jesse feel afterwards?', 'answerA': 'horrible', 'answerB': 'ready', 'answerC': 'tired'}, {'context': 'Quinn was rich and had everything. Quinn gave Bailey the best of everything.', 'question': 'Why did Quinn do this?', 'answerA': 'make sure Baliey was upset all the time', 'answerB': 'annoy Baliey alot', 'answerC': 'make sure Baliey had a better childhood'}, {'context': \"Kendall titled Jan's head then went in for a kiss.\", 'question': 'Why did Kendall do this?', 'answerA': 'jittery', 'answerB': 'excited', 'answerC': 'make out with Jan'}, {'context': 'Bailey took dog toys to the dog park so the dog could play.', 'question': 'How would Others feel as a result?', 'answerA': 'Sad', 'answerB': 'bored', 'answerC': 'Very happy'}, {'context': 'Carson \"went hard or go home\" because you needed to being risky or just not try.', 'question': 'How would Carson feel afterwards?', 'answerA': 'lazy', 'answerB': 'lucky', 'answerC': 'someone who puts in his all'}, {'context': 'Carson assisted the worker in determining the length of the plywood plank.', 'question': 'What will Carson want to do next?', 'answerA': 'fire the worker', 'answerB': 'quit his job', 'answerC': 'build a house'}, {'context': 'After going around a corner too fast, Riley hit a pole with the golf cart.', 'question': 'What will Others want to do next?', 'answerA': 'would get out and check for any damage to the golf cart', 'answerB': 'safe', 'answerC': 'would have any damage done to the golf cart fixed'}, {'context': 'Kendall and Tracy were visiting a national landmark. Kendall took a picture of Tracy.', 'question': 'What does Kendall need to do before this?', 'answerA': 'needed to get a photography license', 'answerB': 'needed to photo-bomb Tracy', 'answerC': 'needed to ask Tracy to pose'}, {'context': \"Austin provided for Bailey's children because Bailey had recently died and the children were orphaned.\", 'question': 'What does Austin need to do before this?', 'answerA': 'have some resources', 'answerB': 'honor the memory of Bailey', 'answerC': 'lose some money'}]\n",
      "labels\n",
      "['1', '1', '1', '1', '3', '3', '2', '2', '3', '2', '2', '2', '3', '3', '3', '3', '3', '1', '3', '1']\n"
     ]
    }
   ],
   "source": [
    "file_path_questions = '..\\\\socialiqa-train-dev\\\\socialiqa-train-dev\\\\train.jsonl'\n",
    "file_path_labels = '..\\\\socialiqa-train-dev\\\\socialiqa-train-dev\\\\train-labels.lst'\n",
    "\n",
    "random.seed(29)\n",
    "# Read JSON Lines file for getting questions\n",
    "json_lines_data = read_jsonl_file(file_path_questions)\n",
    "json_lines_data_enum = list(enumerate(json_lines_data))\n",
    "# Read labels\n",
    "labels = read_labels_file(file_path_labels)\n",
    "\n",
    "# Pick a random subset of 20 rows\n",
    "random_subset = pick_random_subset(json_lines_data_enum)\n",
    "\n",
    "# Extract indeces and questions\n",
    "random_indeces=[]\n",
    "random_questions=[]\n",
    "for index,question in random_subset:\n",
    "    random_indeces.append(index)\n",
    "    random_questions.append(question)\n",
    "print(\"Index\")\n",
    "print(random_indeces)\n",
    "print(\"Questions\")\n",
    "print(random_questions)\n",
    "\n",
    "#Get corrected labels\n",
    "random_labels=[labels[index] for index in random_indeces]\n",
    "print(\"labels\")\n",
    "print(random_labels)"
   ]
  },
  {
   "cell_type": "code",
   "execution_count": 39,
   "metadata": {},
   "outputs": [
    {
     "name": "stdout",
     "output_type": "stream",
     "text": [
      "Random subset of 20 rows saved to 'random_subset.json'\n",
      "Corresponding labels saved to 'random_subset_labels.lst'\n"
     ]
    }
   ],
   "source": [
    "#Save files\n",
    "output_data_file_path = 'random_subset.json'\n",
    "save_to_json(random_questions, output_data_file_path)\n",
    "\n",
    "output_labels_file_path = 'random_subset_labels.lst'\n",
    "with open(output_labels_file_path, 'w') as file:\n",
    "    for label in random_labels:\n",
    "        file.write(label + '\\n')\n",
    "\n",
    "print(f\"Random subset of 20 rows saved to '{output_data_file_path}'\")\n",
    "print(f\"Corresponding labels saved to '{output_labels_file_path}'\")"
   ]
  }
 ],
 "metadata": {
  "kernelspec": {
   "display_name": "ds",
   "language": "python",
   "name": "python3"
  },
  "language_info": {
   "codemirror_mode": {
    "name": "ipython",
    "version": 3
   },
   "file_extension": ".py",
   "mimetype": "text/x-python",
   "name": "python",
   "nbconvert_exporter": "python",
   "pygments_lexer": "ipython3",
   "version": "3.7.13"
  }
 },
 "nbformat": 4,
 "nbformat_minor": 2
}
